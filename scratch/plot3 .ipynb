{
 "cells": [
  {
   "cell_type": "code",
   "execution_count": 15,
   "metadata": {
    "scrolled": false
   },
   "outputs": [
    {
     "name": "stdout",
     "output_type": "stream",
     "text": [
      "<Observer: name='CTIO',\n",
      "    location (lon, lat, el)=(-70.81500000000001 deg, -30.165277777777778 deg, 2214.999999999373 m),\n",
      "    timezone=<DstTzInfo 'Africa/Johannesburg' LMT+1:52:00 STD>>\n",
      "<Observer: name='KMTNET',\n",
      "    location (lon, lat, el)=(149.06119444444445 deg, -31.273361111111104 deg, 1149.0000000004277 m),\n",
      "    timezone=<DstTzInfo 'Australia/Sydney' LMT+10:05:00 STD>>\n",
      "[  0  30  60  90 120 150 180 210 240 270 300 330 360]\n",
      "[-90 -70 -50 -30 -10  10  30  50  70  90]\n",
      "720.0\n",
      "Night only observation for CTIO observatory only\n",
      "\u001b[32mMulitiple ranges of Co-Vis time for ra=0.0 and dec=-90.0 in minutes: 360 mins\u001b[0m\n",
      "Night only observation for CTIO observatory only\n",
      "\u001b[32mMulitiple ranges of Co-Vis time for ra=0.0 and dec=-70.0 in minutes: 340 mins\u001b[0m\n",
      "Night only observation for CTIO observatory only\n",
      "\u001b[32mMulitiple ranges of Co-Vis time for ra=0.0 and dec=-50.0 in minutes: 200 mins\u001b[0m\n",
      "Night only observation for CTIO observatory only\n",
      "\u001b[32mMulitiple ranges of Co-Vis time for ra=0.0 and dec=-30.0 in minutes: 120 mins\u001b[0m\n",
      "Night only observation for CTIO observatory only\n",
      "\u001b[32mMulitiple ranges of Co-Vis time for ra=0.0 and dec=-10.0 in minutes: 20 mins\u001b[0m\n",
      "Night only observation for CTIO observatory only\n",
      "\u001b[31mNo Co-Vis:Total time co-observable for 0.0 and 10.0 in minutes: 0 mins\u001b[0m\n",
      "Night only observation for CTIO observatory only\n",
      "\u001b[31mNo Co-Vis:Total time co-observable for 0.0 and 30.0 in minutes: 0 mins\u001b[0m\n",
      "Night only observation for CTIO observatory only\n",
      "\u001b[31mNo Co-Vis:Total time co-observable for 0.0 and 50.0 in minutes: 0 mins\u001b[0m\n",
      "Night only observation for CTIO observatory only\n",
      "\u001b[31mNo Co-Vis:Total time co-observable for 0.0 and 70.0 in minutes: 0 mins\u001b[0m\n",
      "Night only observation for CTIO observatory only\n",
      "\u001b[31mNo Co-Vis:Total time co-observable for 0.0 and 90.0 in minutes: 0 mins\u001b[0m\n",
      "Night only observation for CTIO observatory only\n",
      "\u001b[32mMulitiple ranges of Co-Vis time for ra=30.0 and dec=-90.0 in minutes: 360 mins\u001b[0m\n",
      "Night only observation for CTIO observatory only\n",
      "\u001b[32mMulitiple ranges of Co-Vis time for ra=30.0 and dec=-70.0 in minutes: 300 mins\u001b[0m\n",
      "Night only observation for CTIO observatory only\n",
      "\u001b[32mMulitiple ranges of Co-Vis time for ra=30.0 and dec=-50.0 in minutes: 200 mins\u001b[0m\n",
      "Night only observation for CTIO observatory only\n",
      "\u001b[32mMulitiple ranges of Co-Vis time for ra=30.0 and dec=-30.0 in minutes: 120 mins\u001b[0m\n",
      "Night only observation for CTIO observatory only\n",
      "\u001b[32mMulitiple ranges of Co-Vis time for ra=30.0 and dec=-10.0 in minutes: 20 mins\u001b[0m\n",
      "Night only observation for CTIO observatory only\n",
      "\u001b[31mNo Co-Vis:Total time co-observable for 30.0 and 10.0 in minutes: 0 mins\u001b[0m\n",
      "Night only observation for CTIO observatory only\n",
      "\u001b[31mNo Co-Vis:Total time co-observable for 30.0 and 30.0 in minutes: 0 mins\u001b[0m\n",
      "Night only observation for CTIO observatory only\n",
      "\u001b[31mNo Co-Vis:Total time co-observable for 30.0 and 50.0 in minutes: 0 mins\u001b[0m\n",
      "Night only observation for CTIO observatory only\n",
      "\u001b[31mNo Co-Vis:Total time co-observable for 30.0 and 70.0 in minutes: 0 mins\u001b[0m\n",
      "Night only observation for CTIO observatory only\n",
      "\u001b[31mNo Co-Vis:Total time co-observable for 30.0 and 90.0 in minutes: 0 mins\u001b[0m\n",
      "Night only observation for CTIO observatory only\n",
      "\u001b[32mMulitiple ranges of Co-Vis time for ra=60.0 and dec=-90.0 in minutes: 360 mins\u001b[0m\n",
      "Night only observation for CTIO observatory only\n",
      "\u001b[32mMulitiple ranges of Co-Vis time for ra=60.0 and dec=-70.0 in minutes: 180 mins\u001b[0m\n",
      "Night only observation for CTIO observatory only\n",
      "\u001b[32mMulitiple ranges of Co-Vis time for ra=60.0 and dec=-50.0 in minutes: 80 mins\u001b[0m\n",
      "Night only observation for CTIO observatory only\n",
      "\u001b[32mMulitiple ranges of Co-Vis time for ra=60.0 and dec=-30.0 in minutes: 40 mins\u001b[0m\n",
      "Night only observation for CTIO observatory only\n",
      "\u001b[31mNo Co-Vis:Total time co-observable for 60.0 and -10.0 in minutes: 0 mins\u001b[0m\n",
      "Night only observation for CTIO observatory only\n",
      "\u001b[31mNo Co-Vis:Total time co-observable for 60.0 and 10.0 in minutes: 0 mins\u001b[0m\n",
      "Night only observation for CTIO observatory only\n",
      "\u001b[31mNo Co-Vis:Total time co-observable for 60.0 and 30.0 in minutes: 0 mins\u001b[0m\n",
      "Night only observation for CTIO observatory only\n",
      "\u001b[31mNo Co-Vis:Total time co-observable for 60.0 and 50.0 in minutes: 0 mins\u001b[0m\n",
      "Night only observation for CTIO observatory only\n",
      "\u001b[31mNo Co-Vis:Total time co-observable for 60.0 and 70.0 in minutes: 0 mins\u001b[0m\n",
      "Night only observation for CTIO observatory only\n",
      "\u001b[31mNo Co-Vis:Total time co-observable for 60.0 and 90.0 in minutes: 0 mins\u001b[0m\n",
      "Night only observation for CTIO observatory only\n",
      "\u001b[32mMulitiple ranges of Co-Vis time for ra=90.0 and dec=-90.0 in minutes: 360 mins\u001b[0m\n",
      "Night only observation for CTIO observatory only\n",
      "\u001b[32mMulitiple ranges of Co-Vis time for ra=90.0 and dec=-70.0 in minutes: 60 mins\u001b[0m\n",
      "Night only observation for CTIO observatory only\n",
      "\u001b[31mNo Co-Vis:Total time co-observable for 90.0 and -50.0 in minutes: 0 mins\u001b[0m\n",
      "Night only observation for CTIO observatory only\n",
      "\u001b[31mNo Co-Vis:Total time co-observable for 90.0 and -30.0 in minutes: 0 mins\u001b[0m\n",
      "Night only observation for CTIO observatory only\n",
      "\u001b[31mNo Co-Vis:Total time co-observable for 90.0 and -10.0 in minutes: 0 mins\u001b[0m\n",
      "Night only observation for CTIO observatory only\n",
      "\u001b[31mNo Co-Vis:Total time co-observable for 90.0 and 10.0 in minutes: 0 mins\u001b[0m\n",
      "Night only observation for CTIO observatory only\n",
      "\u001b[31mNo Co-Vis:Total time co-observable for 90.0 and 30.0 in minutes: 0 mins\u001b[0m\n",
      "Night only observation for CTIO observatory only\n",
      "\u001b[31mNo Co-Vis:Total time co-observable for 90.0 and 50.0 in minutes: 0 mins\u001b[0m\n",
      "Night only observation for CTIO observatory only\n",
      "\u001b[31mNo Co-Vis:Total time co-observable for 90.0 and 70.0 in minutes: 0 mins\u001b[0m\n",
      "Night only observation for CTIO observatory only\n",
      "\u001b[31mNo Co-Vis:Total time co-observable for 90.0 and 90.0 in minutes: 0 mins\u001b[0m\n",
      "Night only observation for CTIO observatory only\n",
      "\u001b[32mMulitiple ranges of Co-Vis time for ra=120.0 and dec=-90.0 in minutes: 360 mins\u001b[0m\n",
      "Night only observation for CTIO observatory only\n",
      "\u001b[31mNo Co-Vis time for ra=120.0 and dec=-70.0 Co-vis time: 0 mins\u001b[0m\n",
      "Night only observation for CTIO observatory only\n",
      "\u001b[31mNo Co-Vis:Total time co-observable for 120.0 and -50.0 in minutes: 0 mins\u001b[0m\n",
      "Night only observation for CTIO observatory only\n",
      "\u001b[31mNo Co-Vis:Total time co-observable for 120.0 and -30.0 in minutes: 0 mins\u001b[0m\n",
      "Night only observation for CTIO observatory only\n",
      "\u001b[31mNo Co-Vis:Total time co-observable for 120.0 and -10.0 in minutes: 0 mins\u001b[0m\n",
      "Night only observation for CTIO observatory only\n",
      "\u001b[31mNo Co-Vis:Total time co-observable for 120.0 and 10.0 in minutes: 0 mins\u001b[0m\n",
      "Night only observation for CTIO observatory only\n",
      "\u001b[31mNo Co-Vis:Total time co-observable for 120.0 and 30.0 in minutes: 0 mins\u001b[0m\n",
      "Night only observation for CTIO observatory only\n",
      "\u001b[31mNo Co-Vis:Total time co-observable for 120.0 and 50.0 in minutes: 0 mins\u001b[0m\n",
      "Night only observation for CTIO observatory only\n",
      "\u001b[31mNo Co-Vis:Total time co-observable for 120.0 and 70.0 in minutes: 0 mins\u001b[0m\n",
      "Night only observation for CTIO observatory only\n",
      "\u001b[31mNo Co-Vis:Total time co-observable for 120.0 and 90.0 in minutes: 0 mins\u001b[0m\n",
      "Night only observation for CTIO observatory only\n",
      "\u001b[32mMulitiple ranges of Co-Vis time for ra=150.0 and dec=-90.0 in minutes: 360 mins\u001b[0m\n",
      "Night only observation for CTIO observatory only\n",
      "\u001b[32mMulitiple ranges of Co-Vis time for ra=150.0 and dec=-70.0 in minutes: 80 mins\u001b[0m\n",
      "Night only observation for CTIO observatory only\n",
      "\u001b[31mNo Co-Vis:Total time co-observable for 150.0 and -50.0 in minutes: 0 mins\u001b[0m\n",
      "Night only observation for CTIO observatory only\n",
      "\u001b[31mNo Co-Vis:Total time co-observable for 150.0 and -30.0 in minutes: 0 mins\u001b[0m\n",
      "Night only observation for CTIO observatory only\n",
      "\u001b[31mNo Co-Vis:Total time co-observable for 150.0 and -10.0 in minutes: 0 mins\u001b[0m\n",
      "Night only observation for CTIO observatory only\n",
      "\u001b[31mNo Co-Vis:Total time co-observable for 150.0 and 10.0 in minutes: 0 mins\u001b[0m\n",
      "Night only observation for CTIO observatory only\n",
      "\u001b[31mNo Co-Vis:Total time co-observable for 150.0 and 30.0 in minutes: 0 mins\u001b[0m\n",
      "Night only observation for CTIO observatory only\n",
      "\u001b[31mNo Co-Vis:Total time co-observable for 150.0 and 50.0 in minutes: 0 mins\u001b[0m\n",
      "Night only observation for CTIO observatory only\n",
      "\u001b[31mNo Co-Vis:Total time co-observable for 150.0 and 70.0 in minutes: 0 mins\u001b[0m\n",
      "Night only observation for CTIO observatory only\n",
      "\u001b[31mNo Co-Vis:Total time co-observable for 150.0 and 90.0 in minutes: 0 mins\u001b[0m\n",
      "Night only observation for CTIO observatory only\n",
      "\u001b[32mMulitiple ranges of Co-Vis time for ra=180.0 and dec=-90.0 in minutes: 360 mins\u001b[0m\n",
      "Night only observation for CTIO observatory only\n",
      "\u001b[32mMulitiple ranges of Co-Vis time for ra=180.0 and dec=-70.0 in minutes: 100 mins\u001b[0m\n"
     ]
    },
    {
     "name": "stderr",
     "output_type": "stream",
     "text": [
      "/usr/lib/python3/dist-packages/ipykernel_launcher.py:244: RuntimeWarning: More than 20 figures have been opened. Figures created through the pyplot interface (`matplotlib.pyplot.figure`) are retained until explicitly closed and may consume too much memory. (To control this warning, see the rcParam `figure.max_open_warning`).\n"
     ]
    },
    {
     "name": "stdout",
     "output_type": "stream",
     "text": [
      "Night only observation for CTIO observatory only\n",
      "\u001b[31mNo Co-Vis:Total time co-observable for 180.0 and -50.0 in minutes: 0 mins\u001b[0m\n",
      "Night only observation for CTIO observatory only\n",
      "\u001b[31mNo Co-Vis:Total time co-observable for 180.0 and -30.0 in minutes: 0 mins\u001b[0m\n",
      "Night only observation for CTIO observatory only\n",
      "\u001b[31mNo Co-Vis:Total time co-observable for 180.0 and -10.0 in minutes: 0 mins\u001b[0m\n",
      "Night only observation for CTIO observatory only\n",
      "\u001b[31mNo Co-Vis:Total time co-observable for 180.0 and 10.0 in minutes: 0 mins\u001b[0m\n",
      "Night only observation for CTIO observatory only\n",
      "\u001b[31mNo Co-Vis:Total time co-observable for 180.0 and 30.0 in minutes: 0 mins\u001b[0m\n",
      "Night only observation for CTIO observatory only\n",
      "\u001b[31mNo Co-Vis:Total time co-observable for 180.0 and 50.0 in minutes: 0 mins\u001b[0m\n",
      "Night only observation for CTIO observatory only\n",
      "\u001b[31mNo Co-Vis:Total time co-observable for 180.0 and 70.0 in minutes: 0 mins\u001b[0m\n",
      "Night only observation for CTIO observatory only\n",
      "\u001b[31mNo Co-Vis:Total time co-observable for 180.0 and 90.0 in minutes: 0 mins\u001b[0m\n",
      "Night only observation for CTIO observatory only\n",
      "\u001b[32mMulitiple ranges of Co-Vis time for ra=210.0 and dec=-90.0 in minutes: 360 mins\u001b[0m\n",
      "Night only observation for CTIO observatory only\n",
      "\u001b[32mMulitiple ranges of Co-Vis time for ra=210.0 and dec=-70.0 in minutes: 80 mins\u001b[0m\n",
      "Night only observation for CTIO observatory only\n",
      "\u001b[31mNo Co-Vis:Total time co-observable for 210.0 and -50.0 in minutes: 0 mins\u001b[0m\n",
      "Night only observation for CTIO observatory only\n",
      "\u001b[31mNo Co-Vis:Total time co-observable for 210.0 and -30.0 in minutes: 0 mins\u001b[0m\n",
      "Night only observation for CTIO observatory only\n",
      "\u001b[31mNo Co-Vis:Total time co-observable for 210.0 and -10.0 in minutes: 0 mins\u001b[0m\n",
      "Night only observation for CTIO observatory only\n",
      "\u001b[31mNo Co-Vis:Total time co-observable for 210.0 and 10.0 in minutes: 0 mins\u001b[0m\n",
      "Night only observation for CTIO observatory only\n",
      "\u001b[31mNo Co-Vis:Total time co-observable for 210.0 and 30.0 in minutes: 0 mins\u001b[0m\n",
      "Night only observation for CTIO observatory only\n",
      "\u001b[31mNo Co-Vis:Total time co-observable for 210.0 and 50.0 in minutes: 0 mins\u001b[0m\n",
      "Night only observation for CTIO observatory only\n",
      "\u001b[31mNo Co-Vis:Total time co-observable for 210.0 and 70.0 in minutes: 0 mins\u001b[0m\n",
      "Night only observation for CTIO observatory only\n",
      "\u001b[31mNo Co-Vis:Total time co-observable for 210.0 and 90.0 in minutes: 0 mins\u001b[0m\n",
      "Night only observation for CTIO observatory only\n",
      "\u001b[32mMulitiple ranges of Co-Vis time for ra=240.0 and dec=-90.0 in minutes: 360 mins\u001b[0m\n",
      "Night only observation for CTIO observatory only\n",
      "\u001b[31mNo Co-Vis time for ra=240.0 and dec=-70.0 Co-vis time: 0 mins\u001b[0m\n",
      "Night only observation for CTIO observatory only\n",
      "\u001b[31mNo Co-Vis time for ra=240.0 and dec=-50.0 Co-vis time: 0 mins\u001b[0m\n",
      "Night only observation for CTIO observatory only\n",
      "\u001b[31mNo Co-Vis time for ra=240.0 and dec=-30.0 Co-vis time: 0 mins\u001b[0m\n",
      "Night only observation for CTIO observatory only\n",
      "\u001b[31mNo Co-Vis time for ra=240.0 and dec=-10.0 Co-vis time: 0 mins\u001b[0m\n",
      "Night only observation for CTIO observatory only\n",
      "\u001b[31mNo Co-Vis:Total time co-observable for 240.0 and 10.0 in minutes: 0 mins\u001b[0m\n",
      "Night only observation for CTIO observatory only\n",
      "\u001b[31mNo Co-Vis:Total time co-observable for 240.0 and 30.0 in minutes: 0 mins\u001b[0m\n",
      "Night only observation for CTIO observatory only\n",
      "\u001b[31mNo Co-Vis:Total time co-observable for 240.0 and 50.0 in minutes: 0 mins\u001b[0m\n",
      "Night only observation for CTIO observatory only\n",
      "\u001b[31mNo Co-Vis:Total time co-observable for 240.0 and 70.0 in minutes: 0 mins\u001b[0m\n",
      "Night only observation for CTIO observatory only\n",
      "\u001b[31mNo Co-Vis:Total time co-observable for 240.0 and 90.0 in minutes: 0 mins\u001b[0m\n",
      "Night only observation for CTIO observatory only\n",
      "\u001b[32mMulitiple ranges of Co-Vis time for ra=270.0 and dec=-90.0 in minutes: 360 mins\u001b[0m\n",
      "Night only observation for CTIO observatory only\n",
      "\u001b[31mNo Co-Vis time for ra=270.0 and dec=-70.0 Co-vis time: 0 mins\u001b[0m\n",
      "Night only observation for CTIO observatory only\n",
      "\u001b[31mNo Co-Vis time for ra=270.0 and dec=-50.0 Co-vis time: 0 mins\u001b[0m\n",
      "Night only observation for CTIO observatory only\n",
      "\u001b[31mNo Co-Vis time for ra=270.0 and dec=-30.0 Co-vis time: 0 mins\u001b[0m\n",
      "Night only observation for CTIO observatory only\n",
      "\u001b[31mNo Co-Vis time for ra=270.0 and dec=-10.0 Co-vis time: 0 mins\u001b[0m\n",
      "Night only observation for CTIO observatory only\n",
      "\u001b[31mNo Co-Vis:Total time co-observable for 270.0 and 10.0 in minutes: 0 mins\u001b[0m\n",
      "Night only observation for CTIO observatory only\n",
      "\u001b[31mNo Co-Vis:Total time co-observable for 270.0 and 30.0 in minutes: 0 mins\u001b[0m\n",
      "Night only observation for CTIO observatory only\n",
      "\u001b[31mNo Co-Vis:Total time co-observable for 270.0 and 50.0 in minutes: 0 mins\u001b[0m\n",
      "Night only observation for CTIO observatory only\n",
      "\u001b[31mNo Co-Vis:Total time co-observable for 270.0 and 70.0 in minutes: 0 mins\u001b[0m\n",
      "Night only observation for CTIO observatory only\n",
      "\u001b[31mNo Co-Vis:Total time co-observable for 270.0 and 90.0 in minutes: 0 mins\u001b[0m\n",
      "Night only observation for CTIO observatory only\n",
      "\u001b[32mMulitiple ranges of Co-Vis time for ra=300.0 and dec=-90.0 in minutes: 360 mins\u001b[0m\n",
      "Night only observation for CTIO observatory only\n",
      "\u001b[32mMulitiple ranges of Co-Vis time for ra=300.0 and dec=-70.0 in minutes: 100 mins\u001b[0m\n",
      "Night only observation for CTIO observatory only\n",
      "\u001b[31mNo Co-Vis time for ra=300.0 and dec=-50.0 Co-vis time: 0 mins\u001b[0m\n",
      "Night only observation for CTIO observatory only\n",
      "\u001b[31mNo Co-Vis time for ra=300.0 and dec=-30.0 Co-vis time: 0 mins\u001b[0m\n",
      "Night only observation for CTIO observatory only\n",
      "\u001b[31mNo Co-Vis time for ra=300.0 and dec=-10.0 Co-vis time: 0 mins\u001b[0m\n",
      "Night only observation for CTIO observatory only\n",
      "\u001b[31mNo Co-Vis:Total time co-observable for 300.0 and 10.0 in minutes: 0 mins\u001b[0m\n",
      "Night only observation for CTIO observatory only\n",
      "\u001b[31mNo Co-Vis:Total time co-observable for 300.0 and 30.0 in minutes: 0 mins\u001b[0m\n",
      "Night only observation for CTIO observatory only\n",
      "\u001b[31mNo Co-Vis:Total time co-observable for 300.0 and 50.0 in minutes: 0 mins\u001b[0m\n",
      "Night only observation for CTIO observatory only\n",
      "\u001b[31mNo Co-Vis:Total time co-observable for 300.0 and 70.0 in minutes: 0 mins\u001b[0m\n",
      "Night only observation for CTIO observatory only\n",
      "\u001b[31mNo Co-Vis:Total time co-observable for 300.0 and 90.0 in minutes: 0 mins\u001b[0m\n",
      "Night only observation for CTIO observatory only\n",
      "\u001b[32mMulitiple ranges of Co-Vis time for ra=330.0 and dec=-90.0 in minutes: 360 mins\u001b[0m\n",
      "Night only observation for CTIO observatory only\n",
      "\u001b[32mMulitiple ranges of Co-Vis time for ra=330.0 and dec=-70.0 in minutes: 220 mins\u001b[0m\n",
      "Night only observation for CTIO observatory only\n",
      "\u001b[32mMulitiple ranges of Co-Vis time for ra=330.0 and dec=-50.0 in minutes: 120 mins\u001b[0m\n",
      "Night only observation for CTIO observatory only\n",
      "\u001b[32mMulitiple ranges of Co-Vis time for ra=330.0 and dec=-30.0 in minutes: 80 mins\u001b[0m\n",
      "Night only observation for CTIO observatory only\n",
      "\u001b[32mMulitiple ranges of Co-Vis time for ra=330.0 and dec=-10.0 in minutes: 20 mins\u001b[0m\n",
      "Night only observation for CTIO observatory only\n",
      "\u001b[31mNo Co-Vis:Total time co-observable for 330.0 and 10.0 in minutes: 0 mins\u001b[0m\n",
      "Night only observation for CTIO observatory only\n",
      "\u001b[31mNo Co-Vis:Total time co-observable for 330.0 and 30.0 in minutes: 0 mins\u001b[0m\n",
      "Night only observation for CTIO observatory only\n",
      "\u001b[31mNo Co-Vis:Total time co-observable for 330.0 and 50.0 in minutes: 0 mins\u001b[0m\n",
      "Night only observation for CTIO observatory only\n",
      "\u001b[31mNo Co-Vis:Total time co-observable for 330.0 and 70.0 in minutes: 0 mins\u001b[0m\n",
      "Night only observation for CTIO observatory only\n",
      "\u001b[31mNo Co-Vis:Total time co-observable for 330.0 and 90.0 in minutes: 0 mins\u001b[0m\n",
      "Night only observation for CTIO observatory only\n",
      "\u001b[32mMulitiple ranges of Co-Vis time for ra=0.0 and dec=-90.0 in minutes: 360 mins\u001b[0m\n",
      "Night only observation for CTIO observatory only\n",
      "\u001b[32mMulitiple ranges of Co-Vis time for ra=0.0 and dec=-70.0 in minutes: 340 mins\u001b[0m\n",
      "Night only observation for CTIO observatory only\n",
      "\u001b[32mMulitiple ranges of Co-Vis time for ra=0.0 and dec=-50.0 in minutes: 200 mins\u001b[0m\n",
      "Night only observation for CTIO observatory only\n",
      "\u001b[32mMulitiple ranges of Co-Vis time for ra=0.0 and dec=-30.0 in minutes: 120 mins\u001b[0m\n",
      "Night only observation for CTIO observatory only\n",
      "\u001b[32mMulitiple ranges of Co-Vis time for ra=0.0 and dec=-10.0 in minutes: 20 mins\u001b[0m\n",
      "Night only observation for CTIO observatory only\n",
      "\u001b[31mNo Co-Vis:Total time co-observable for 0.0 and 10.0 in minutes: 0 mins\u001b[0m\n"
     ]
    },
    {
     "name": "stdout",
     "output_type": "stream",
     "text": [
      "Night only observation for CTIO observatory only\n",
      "\u001b[31mNo Co-Vis:Total time co-observable for 0.0 and 30.0 in minutes: 0 mins\u001b[0m\n",
      "Night only observation for CTIO observatory only\n",
      "\u001b[31mNo Co-Vis:Total time co-observable for 0.0 and 50.0 in minutes: 0 mins\u001b[0m\n",
      "Night only observation for CTIO observatory only\n",
      "\u001b[31mNo Co-Vis:Total time co-observable for 0.0 and 70.0 in minutes: 0 mins\u001b[0m\n",
      "Night only observation for CTIO observatory only\n",
      "\u001b[31mNo Co-Vis:Total time co-observable for 0.0 and 90.0 in minutes: 0 mins\u001b[0m\n",
      "[[360. 360. 360. 360. 360. 360. 360. 360. 360. 360. 360. 360. 360.]\n",
      " [340. 300. 180.  60.   0.  80. 100.  80.   0.   0. 100. 220. 340.]\n",
      " [200. 200.  80.   0.   0.   0.   0.   0.   0.   0.   0. 120. 200.]\n",
      " [120. 120.  40.   0.   0.   0.   0.   0.   0.   0.   0.  80. 120.]\n",
      " [ 20.  20.   0.   0.   0.   0.   0.   0.   0.   0.   0.  20.  20.]\n",
      " [  0.   0.   0.   0.   0.   0.   0.   0.   0.   0.   0.   0.   0.]\n",
      " [  0.   0.   0.   0.   0.   0.   0.   0.   0.   0.   0.   0.   0.]\n",
      " [  0.   0.   0.   0.   0.   0.   0.   0.   0.   0.   0.   0.   0.]\n",
      " [  0.   0.   0.   0.   0.   0.   0.   0.   0.   0.   0.   0.   0.]\n",
      " [  0.   0.   0.   0.   0.   0.   0.   0.   0.   0.   0.   0.   0.]]\n",
      "CPU times: user 14.3 s, sys: 73.9 ms, total: 14.4 s\n",
      "Wall time: 14.1 s\n"
     ]
    },
    {
     "data": {
      "image/png": "[encoded data removed]",
      "text/plain": [
       "<Figure size 360x360 with 1 Axes>"
      ]
     },
     "metadata": {},
     "output_type": "display_data"
    },
    {
     "data": {
      "image/png": "[encoded data removed]",
      "text/plain": [
       "<Figure size 360x360 with 1 Axes>"
      ]
     },
     "metadata": {},
     "output_type": "display_data"
    },
    {
     "data": {
      "image/png": "[encoded data removed]",
      "text/plain": [
       "<Figure size 360x360 with 1 Axes>"
      ]
     },
     "metadata": {},
     "output_type": "display_data"
    },
    {
     "data": {
      "image/png": "[encoded data removed]",
      "text/plain": [
       "<Figure size 360x360 with 1 Axes>"
      ]
     },
     "metadata": {},
     "output_type": "display_data"
    },
    {
     "data": {
      "image/png": "[encoded data removed]",
      "text/plain": [
       "<Figure size 360x360 with 1 Axes>"
      ]
     },
     "metadata": {},
     "output_type": "display_data"
    },
    {
     "data": {
      "image/png": "[encoded data removed]",
      "text/plain": [
       "<Figure size 360x360 with 1 Axes>"
      ]
     },
     "metadata": {},
     "output_type": "display_data"
    },
    {
     "data": {
      "image/png": "[encoded data removed]",
      "text/plain": [
       "<Figure size 360x360 with 1 Axes>"
      ]
     },
     "metadata": {},
     "output_type": "display_data"
    },
    {
     "data": {
      "image/png": "[encoded data removed]",
      "text/plain": [
       "<Figure size 360x360 with 1 Axes>"
      ]
     },
     "metadata": {},
     "output_type": "display_data"
    },
    {
     "data": {
      "image/png": "[encoded data removed]",
      "text/plain": [
       "<Figure size 360x360 with 1 Axes>"
      ]
     },
     "metadata": {},
     "output_type": "display_data"
    },
    {
     "data": {
      "image/png": "[encoded data removed]",
      "text/plain": [
       "<Figure size 360x360 with 1 Axes>"
      ]
     },
     "metadata": {},
     "output_type": "display_data"
    },
    {
     "data": {
      "image/png": "[encoded data removed]",
      "text/plain": [
       "<Figure size 360x360 with 1 Axes>"
      ]
     },
     "metadata": {},
     "output_type": "display_data"
    },
    {
     "data": {
      "image/png": "[encoded data removed]",
      "text/plain": [
       "<Figure size 360x360 with 1 Axes>"
      ]
     },
     "metadata": {},
     "output_type": "display_data"
    },
    {
     "data": {
      "image/png": "[encoded data removed]",
      "text/plain": [
       "<Figure size 360x360 with 1 Axes>"
      ]
     },
     "metadata": {},
     "output_type": "display_data"
    },
    {
     "data": {
      "image/png": "[encoded data removed]",
      "text/plain": [
       "<Figure size 360x360 with 1 Axes>"
      ]
     },
     "metadata": {},
     "output_type": "display_data"
    },
    {
     "data": {
      "image/png": "[encoded data removed]",
      "text/plain": [
       "<Figure size 360x360 with 1 Axes>"
      ]
     },
     "metadata": {},
     "output_type": "display_data"
    },
    {
     "data": {
      "image/png": "[encoded data removed]",
      "text/plain": [
       "<Figure size 360x360 with 1 Axes>"
      ]
     },
     "metadata": {},
     "output_type": "display_data"
    },
    {
     "data": {
      "image/png": "[encoded data removed]",
      "text/plain": [
       "<Figure size 360x360 with 1 Axes>"
      ]
     },
     "metadata": {},
     "output_type": "display_data"
    },
    {
     "data": {
      "image/png": "[encoded data removed]",
      "text/plain": [
       "<Figure size 360x360 with 1 Axes>"
      ]
     },
     "metadata": {},
     "output_type": "display_data"
    },
    {
     "data": {
      "image/png": "[encoded data removed]",
      "text/plain": [
       "<Figure size 360x360 with 1 Axes>"
      ]
     },
     "metadata": {},
     "output_type": "display_data"
    },
    {
     "data": {
      "image/png": "[encoded data removed]",
      "text/plain": [
       "<Figure size 360x360 with 1 Axes>"
      ]
     },
     "metadata": {},
     "output_type": "display_data"
    },
    {
     "data": {
      "image/png": "[encoded data removed]",
      "text/plain": [
       "<Figure size 360x360 with 1 Axes>"
      ]
     },
     "metadata": {},
     "output_type": "display_data"
    },
    {
     "data": {
      "image/png": "[encoded data removed]",
      "text/plain": [
       "<Figure size 360x360 with 1 Axes>"
      ]
     },
     "metadata": {},
     "output_type": "display_data"
    },
    {
     "data": {
      "image/png": "[encoded data removed]",
      "text/plain": [
       "<Figure size 360x360 with 1 Axes>"
      ]
     },
     "metadata": {},
     "output_type": "display_data"
    },
    {
     "data": {
      "image/png": "[encoded data removed]",
      "text/plain": [
       "<Figure size 360x360 with 1 Axes>"
      ]
     },
     "metadata": {},
     "output_type": "display_data"
    },
    {
     "data": {
      "image/png": "[encoded data removed]",
      "text/plain": [
       "<Figure size 360x360 with 1 Axes>"
      ]
     },
     "metadata": {},
     "output_type": "display_data"
    },
    {
     "data": {
      "image/png": "[encoded data removed]",
      "text/plain": [
       "<Figure size 360x360 with 1 Axes>"
      ]
     },
     "metadata": {},
     "output_type": "display_data"
    },
    {
     "data": {
      "image/png": "[encoded data removed]",
      "text/plain": [
       "<Figure size 360x360 with 1 Axes>"
      ]
     },
     "metadata": {},
     "output_type": "display_data"
    },
    {
     "data": {
      "image/png": "[encoded data removed]",
      "text/plain": [
       "<Figure size 360x360 with 1 Axes>"
      ]
     },
     "metadata": {},
     "output_type": "display_data"
    },
    {
     "data": {
      "image/png": "[encoded data removed]",
      "text/plain": [
       "<Figure size 360x360 with 1 Axes>"
      ]
     },
     "metadata": {},
     "output_type": "display_data"
    },
    {
     "data": {
      "image/png": "[encoded data removed]",
      "text/plain": [
       "<Figure size 360x360 with 1 Axes>"
      ]
     },
     "metadata": {},
     "output_type": "display_data"
    },
    {
     "data": {
      "image/png": "[encoded data removed]",
      "text/plain": [
       "<Figure size 360x360 with 1 Axes>"
      ]
     },
     "metadata": {},
     "output_type": "display_data"
    },
    {
     "data": {
      "image/png": "[encoded data removed]",
      "text/plain": [
       "<Figure size 360x360 with 1 Axes>"
      ]
     },
     "metadata": {},
     "output_type": "display_data"
    },
    {
     "data": {
      "image/png": "[encoded data removed]",
      "text/plain": [
       "<Figure size 360x360 with 1 Axes>"
      ]
     },
     "metadata": {},
     "output_type": "display_data"
    },
    {
     "data": {
      "image/png": "[encoded data removed]",
      "text/plain": [
       "<Figure size 360x360 with 1 Axes>"
      ]
     },
     "metadata": {},
     "output_type": "display_data"
    },
    {
     "data": {
      "image/png": "[encoded data removed]",
      "text/plain": [
       "<Figure size 360x360 with 1 Axes>"
      ]
     },
     "metadata": {},
     "output_type": "display_data"
    },
    {
     "data": {
      "image/png": "[encoded data removed]",
      "text/plain": [
       "<Figure size 360x360 with 1 Axes>"
      ]
     },
     "metadata": {},
     "output_type": "display_data"
    },
    {
     "data": {
      "image/png": "[encoded data removed]",
      "text/plain": [
       "<Figure size 360x360 with 1 Axes>"
      ]
     },
     "metadata": {},
     "output_type": "display_data"
    },
    {
     "data": {
      "image/png": "[encoded data removed]",
      "text/plain": [
       "<Figure size 360x360 with 1 Axes>"
      ]
     },
     "metadata": {},
     "output_type": "display_data"
    },
    {
     "data": {
      "image/png": "[encoded data removed]",
      "text/plain": [
       "<Figure size 360x360 with 1 Axes>"
      ]
     },
     "metadata": {},
     "output_type": "display_data"
    },
    {
     "data": {
      "image/png": "[encoded data removed]",
      "text/plain": [
       "<Figure size 360x360 with 1 Axes>"
      ]
     },
     "metadata": {},
     "output_type": "display_data"
    },
    {
     "data": {
      "image/png": "[encoded data removed]",
      "text/plain": [
       "<Figure size 360x360 with 1 Axes>"
      ]
     },
     "metadata": {},
     "output_type": "display_data"
    },
    {
     "data": {
      "image/png": "[encoded data removed]",
      "text/plain": [
       "<Figure size 360x360 with 1 Axes>"
      ]
     },
     "metadata": {},
     "output_type": "display_data"
    },
    {
     "data": {
      "image/png": "[encoded data removed]",
      "text/plain": [
       "<Figure size 360x360 with 1 Axes>"
      ]
     },
     "metadata": {},
     "output_type": "display_data"
    },
    {
     "data": {
      "image/png": "[encoded data removed]",
      "text/plain": [
       "<Figure size 360x360 with 1 Axes>"
      ]
     },
     "metadata": {},
     "output_type": "display_data"
    },
    {
     "data": {
      "image/png": "[encoded data removed]",
      "text/plain": [
       "<Figure size 360x360 with 1 Axes>"
      ]
     },
     "metadata": {},
     "output_type": "display_data"
    },
    {
     "data": {
      "image/png": "[encoded data removed]",
      "text/plain": [
       "<Figure size 360x360 with 1 Axes>"
      ]
     },
     "metadata": {},
     "output_type": "display_data"
    },
    {
     "data": {
      "image/png": "[encoded data removed]",
      "text/plain": [
       "<Figure size 360x360 with 1 Axes>"
      ]
     },
     "metadata": {},
     "output_type": "display_data"
    },
    {
     "data": {
      "image/png": "[encoded data removed]",
      "text/plain": [
       "<Figure size 360x360 with 1 Axes>"
      ]
     },
     "metadata": {},
     "output_type": "display_data"
    },
    {
     "data": {
      "image/png": "[encoded data removed]",
      "text/plain": [
       "<Figure size 360x360 with 1 Axes>"
      ]
     },
     "metadata": {},
     "output_type": "display_data"
    },
    {
     "data": {
      "image/png": "[encoded data removed]",
      "text/plain": [
       "<Figure size 1440x720 with 2 Axes>"
      ]
     },
     "metadata": {},
     "output_type": "display_data"
    }
   ],
   "source": [
    "%%time\n",
    "#load third party modules [requirements- Astropy, pandas, numpy, colorama,cv2]\n",
    "\n",
    "from astropy.time import Time\n",
    "import pandas as pd\n",
    "\n",
    "from astropy.coordinates import EarthLocation\n",
    "from astroplan import Observer,FixedTarget\n",
    "from astroplan.plots import plot_airmass,plot_altitude\n",
    "import astropy.units as u\n",
    "from astropy.coordinates import SkyCoord\n",
    "\n",
    "import numpy as np\n",
    "import matplotlib.pyplot as plt\n",
    "from datetime import datetime\n",
    "\n",
    "import colorama\n",
    "from colorama import Fore, Style\n",
    "import cv2\n",
    "\n",
    "\n",
    "pd.set_option(\"display.max_rows\", None, \"display.max_columns\", None)\n",
    "\n",
    "%matplotlib inline\n",
    "\n",
    "\n",
    "\n",
    "#############################################################################################################\n",
    "\n",
    "#Specify paramenters\n",
    "#Co-vis type input 'max' for maximum co-vis or 'sum' for sum of all co-vis \n",
    "\n",
    "co_vis_type='sum' #or 'max'\n",
    "RA_intervals=30\n",
    "DEC_intervals=20\n",
    "time_interval=20\n",
    "low_airmasslim=1\n",
    "high_airmasslim=3\n",
    "start_date = datetime(2021,1, 7, 18, 0)\n",
    "end_date = datetime(2021, 1, 8, 6, 0)\n",
    "\n",
    "Obs1_longitude=-70.81500000000001 \n",
    "Obs1_latitude=-30.165277777777778\n",
    "obs1_elevation=2214.9999999993697\n",
    "obs1_name='CTIO'\n",
    "night_only_obs1= 'y' #'n'\n",
    "\n",
    "\n",
    "obs2_longitude=149.06119444444445\n",
    "obs2_latitude=-31.273361111111104\n",
    "obs2_elevation=1149.0000000015516\n",
    "obs2_name='KMTNET'\n",
    "night_only_obs2= 'n' #'n'\n",
    "\n",
    "\n",
    "\n",
    "\n",
    "##############################################################################################################\n",
    "\n",
    "#Observatories\n",
    "\n",
    "\n",
    "obs1_coordinates = EarthLocation.from_geodetic(Obs1_longitude*u.deg,Obs1_latitude*u.deg,obs1_elevation*u.m)\n",
    "obs1= Observer(location=obs1_coordinates, name=obs1_name, timezone='Africa/Johannesburg')\n",
    "print(obs1)\n",
    "\n",
    "\n",
    "obs2_coordinates = EarthLocation.from_geodetic(obs2_longitude*u.deg,obs2_latitude*u.deg,obs2_elevation*u.m)\n",
    "obs2 = Observer(location=obs2_coordinates, name=obs2_name, timezone='Australia/Sydney')\n",
    "print(obs2)\n",
    "\n",
    "#ctio = Observer.at_site(\"ctio\", timezone = 'America/Santiago')  \n",
    "\n",
    "#kmtnet= Observer.at_site(\"Siding Spring Observatory\", name='KMTNET',timezone = 'Australia/Sydney')\n",
    "\n",
    "\n",
    "\n",
    "\n",
    "save_location= '/home/andrew/src/Transient-Scheduler/scratch/'\n",
    "\n",
    "###########################################################################################################\n",
    "#RA&DEC \n",
    "ra=np.array(range(0, 361, RA_intervals))\n",
    "\n",
    "dec=np.array(range(-90, 91, DEC_intervals))\n",
    "x,y=np.meshgrid(ra,dec)\n",
    "\n",
    "bb = np.zeros(np.shape(x))\n",
    "print(ra)\n",
    "print(dec)\n",
    "\n",
    "###########################################################################################################\n",
    "#Time intervals\n",
    "from datetime import datetime, timedelta\n",
    "\n",
    "def daterange(start_date, end_date):\n",
    "    delta = timedelta(minutes=time_interval)\n",
    "    while start_date < end_date:\n",
    "        yield start_date\n",
    "        start_date += delta\n",
    "        \n",
    "\n",
    "times=[]\n",
    "for single_date in daterange(start_date, end_date):\n",
    "    times.append(single_date.strftime(\"%Y-%m-%d %H:%M:%S\"))\n",
    "times1=np.array(times)\n",
    "\n",
    "times1=times1.astype((\"datetime64[ns]\"))\n",
    "delta=end_date-start_date\n",
    "total_mins = delta.total_seconds() / 60\n",
    "print(total_mins) \n",
    "\n",
    "\n",
    "############################################################################################################\n",
    "#Loop through all ra and dec\n",
    "\n",
    "for ii,r in enumerate(ra):\n",
    "    for jj,d in enumerate(dec):\n",
    "                \n",
    "        target_coord = SkyCoord(ra=r*u.deg, dec=d*u.deg)\n",
    "        target = FixedTarget(coord=target_coord, name=\"source\")\n",
    "        \n",
    "        \n",
    "        #Airmasses at observatory 1\n",
    "        \n",
    "        airmass_obs1=obs1.altaz(times, target).secz\n",
    "        masked_airmass_obs1 = np.ma.array(airmass_obs1, mask=airmass_obs1 < 1)\n",
    "\n",
    "        \n",
    "        #Airmasses at observatory2\n",
    "        \n",
    "        airmass_obs2=obs2.altaz(times,target).secz\n",
    "        masked_airmass_obs2 = np.ma.array(airmass_obs2, mask=airmass_obs2 < 1)\n",
    "        \n",
    "        \n",
    "        xc=obs1.is_night(times)\n",
    "        cc=obs2.is_night(times)\n",
    "        \n",
    "        \n",
    "        \n",
    "        \n",
    "        \n",
    "      \n",
    "        if night_only_obs1=='y'and night_only_obs2=='y':\n",
    "            print(f'Night only observation for BOTH Observatory {obs1.name.upper()} and {obs2.name.upper()}')\n",
    "\n",
    "            dk={'datetimes':times,'night_obs1':xc,'night_obs2':cc,\n",
    "                'obs1_airmass':masked_airmass_obs1,'obs2_airmass':masked_airmass_obs2}\n",
    "\n",
    "            df1=pd.DataFrame(data=dk)\n",
    "\n",
    "            df=df1.round(3 )# Rounding up values \n",
    "             # Dropping NaN values but maintaining indexes in case there are NANs\n",
    "\n",
    "            df=df.dropna()\n",
    "            df.reset_index(drop=True, inplace=True)\n",
    "            #print(df)\n",
    "\n",
    "            covis_list=(df[df['obs1_airmass'].between(low_airmasslim,high_airmasslim) & df['obs2_airmass'].between(low_airmasslim,high_airmasslim)])\n",
    "\n",
    "\n",
    "            if len(covis_list)==0 or len(df)==0:\n",
    "                mins=0\n",
    "                print(f'{Fore.RED}No Co-Vis:Total time co-observable for {target_coord.ra.deg} and {target_coord.dec.deg} in minutes: {mins} mins{Style.RESET_ALL}')\n",
    "                bb[jj,ii] = mins \n",
    "            else:   \n",
    "                com_vals=np.array([(df['night_obs1'] == True) & (df['night_obs2'] == True)&df['obs1_airmass'].between(low_airmasslim,high_airmasslim) & df['obs2_airmass'].between(low_airmasslim,high_airmasslim)])\n",
    "                \n",
    "                fb=com_vals[0][:]\n",
    "                p=int((len(fb))*0.2)\n",
    "                nit=np.zeros(p,dtype=bool)\n",
    "\n",
    "                yy=np.append(nit,fb) #Adding false to the beginning of the list \n",
    "                tt=np.append(yy,nit)\n",
    "                gg=1*tt #converting to binary\n",
    "                ff=np.zeros(len(gg)) #Generating zeros\n",
    "                vls=np.array([ff,tt,ff])\n",
    "\n",
    "                vls=vls.astype(np.uint8)\n",
    "                (thresh, gray) = cv2.threshold(vls, 0, 1, cv2.THRESH_BINARY | cv2.THRESH_OTSU)\n",
    "\n",
    "                ret, labels = cv2.connectedComponents(gray)\n",
    "                plt.figure(figsize=(5,5))\n",
    "                plt.imshow(vls)\n",
    "                k=np.unique(labels, return_counts=True)\n",
    "\n",
    "                cb=k[1][1:]\n",
    "                if len(cb)==0:\n",
    "                    fullmins=0\n",
    "                    print(f'{Fore.RED}No Co-Vis time for ra={target_coord.ra.deg} and dec={target_coord.dec.deg} Co-vis time: {fullmins} mins{Style.RESET_ALL}')\n",
    "                    bb[jj,ii]=fullmins\n",
    "                else: \n",
    "\n",
    "                    cvs=[]\n",
    "                    for i in (cb):\n",
    "                        cvs.append((time_interval*i))\n",
    "                        bgr_covis=np.max(cvs)\n",
    "                        total_covis=sum(cvs)\n",
    "\n",
    "                    print(f'{Fore.GREEN}Mulitiple ranges of Co-Vis time for ra={target_coord.ra.deg} and dec={target_coord.dec.deg} in minutes: {total_covis} mins{Style.RESET_ALL}')\n",
    "                    \n",
    "                    if co_vis_type=='sum':\n",
    "                        bb[jj,ii] = total_covis \n",
    "                    elif co_vis_type=='max':\n",
    "                        bb[jj,ii] = bgr_covis \n",
    "        #########################################################################################\n",
    "\n",
    "\n",
    "        elif night_only_obs1=='y'and night_only_obs2=='n':\n",
    "            print(f'Night only observation for {obs1.name.upper()} observatory only')\n",
    "\n",
    "            dk={'datetimes':times,'night_obs1':xc,'obs1_airmass':masked_airmass_obs1,'obs2_airmass':masked_airmass_obs2}\n",
    "            df1=pd.DataFrame(data=dk)\n",
    "\n",
    "            df=df1.round(3 )# Rounding up values \n",
    "\n",
    "            df=df.dropna()\n",
    "            df.reset_index(drop=True, inplace=True)\n",
    "            \n",
    "\n",
    "            covis_list=(df[df['obs1_airmass'].between(low_airmasslim,high_airmasslim) & df['obs2_airmass'].between(low_airmasslim,high_airmasslim)])\n",
    "\n",
    "\n",
    "            if len(covis_list)==0 or len(df)==0:\n",
    "                mins=0\n",
    "                print(f'{Fore.RED}No Co-Vis:Total time co-observable for {target_coord.ra.deg} and {target_coord.dec.deg} in minutes: {mins} mins{Style.RESET_ALL}')\n",
    "                bb[jj,ii] = mins \n",
    "            else:   \n",
    "                com_vals=np.array([(df['night_obs1'] == True) &df['obs1_airmass'].between(low_airmasslim,high_airmasslim) & df['obs2_airmass'].between(low_airmasslim,high_airmasslim)])\n",
    "                com_vals\n",
    "                fb=com_vals[0][:]\n",
    "                p=int((len(fb))*0.2)\n",
    "                nit=np.zeros(p,dtype=bool)\n",
    "\n",
    "                yy=np.append(nit,fb) #Adding false to the beginning of the list \n",
    "                tt=np.append(yy,nit)\n",
    "                gg=1*tt #converting to binary\n",
    "                ff=np.zeros(len(gg)) #Generating zeros\n",
    "                vls=np.array([ff,tt,ff])\n",
    "\n",
    "                vls=vls.astype(np.uint8)\n",
    "                (thresh, gray) = cv2.threshold(vls, 0, 1, cv2.THRESH_BINARY | cv2.THRESH_OTSU)\n",
    "\n",
    "                ret, labels = cv2.connectedComponents(gray)\n",
    "                plt.figure(figsize=(5,5))\n",
    "                plt.imshow(vls)\n",
    "                k=np.unique(labels, return_counts=True)\n",
    "\n",
    "                cb=k[1][1:]\n",
    "                if len(cb)==0:\n",
    "                    fullmins=0\n",
    "                    print(f'{Fore.RED}No Co-Vis time for ra={target_coord.ra.deg} and dec={target_coord.dec.deg} Co-vis time: {fullmins} mins{Style.RESET_ALL}')\n",
    "                    bb[jj,ii]=fullmins\n",
    "                else: \n",
    "\n",
    "                    cvs=[]\n",
    "                    for i in (cb):\n",
    "                        cvs.append((time_interval*i))\n",
    "                        bgr_covis=np.max(cvs)\n",
    "                        total_covis=sum(cvs)\n",
    "\n",
    "                    print(f'{Fore.GREEN}Mulitiple ranges of Co-Vis time for ra={target_coord.ra.deg} and dec={target_coord.dec.deg} in minutes: {total_covis} mins{Style.RESET_ALL}')  \n",
    "                    if co_vis_type=='sum':\n",
    "                        bb[jj,ii] = total_covis \n",
    "                    elif co_vis_type=='max':\n",
    "                        bb[jj,ii] = bgr_covis \n",
    "        ####################################################################################################\n",
    "\n",
    "        elif night_only_obs1=='n'and night_only_obs2=='y':\n",
    "\n",
    "            print(f'Night only observation for {obs2.name.upper()} observatory only')\n",
    "\n",
    "            dk={'datetimes':times,'night_obs2':cc,'obs1_airmass':masked_airmass_obs1,'obs2_airmass':masked_airmass_obs2}\n",
    "            df1=pd.DataFrame(data=dk)\n",
    "\n",
    "            df=df1.round(3 )# Rounding up values \n",
    "             # Dropping NaN values but maintaining indexes in case there are NANs\n",
    "\n",
    "            df=df.dropna()#Checking the dataframe\n",
    "            df.reset_index(drop=True, inplace=True)\n",
    "            #print(df)\n",
    "\n",
    "            covis_list=(df[df['obs1_airmass'].between(low_airmasslim,high_airmasslim) & df['obs2_airmass'].between(low_airmasslim,high_airmasslim)])\n",
    "\n",
    "\n",
    "            if len(covis_list)==0 or len(df)==0:\n",
    "                mins=0\n",
    "                print(f'{Fore.RED}No Co-Vis:Total time co-observable for {target_coord.ra.deg} and {target_coord.dec.deg} in minutes: {mins} mins{Style.RESET_ALL}')\n",
    "                bb[jj,ii] = mins \n",
    "            else:   \n",
    "                com_vals=np.array([(df['night_obs2'] == True)&df['obs1_airmass'].between(low_airmasslim,high_airmasslim) & df['obs2_airmass'].between(low_airmasslim,high_airmasslim)])\n",
    "                com_vals\n",
    "                fb=com_vals[0][:]\n",
    "                p=int((len(fb))*0.2)\n",
    "                nit=np.zeros(p,dtype=bool)\n",
    "\n",
    "                yy=np.append(nit,fb) #Adding false to the beginning of the list \n",
    "                tt=np.append(yy,nit)\n",
    "                gg=1*tt #converting to binary\n",
    "                ff=np.zeros(len(gg)) #Generating zeros\n",
    "                vls=np.array([ff,tt,ff])\n",
    "\n",
    "                vls=vls.astype(np.uint8)\n",
    "                (thresh, gray) = cv2.threshold(vls, 0, 1, cv2.THRESH_BINARY | cv2.THRESH_OTSU)\n",
    "\n",
    "                ret, labels = cv2.connectedComponents(gray)\n",
    "                plt.figure(figsize=(5,5))\n",
    "                plt.imshow(vls)\n",
    "                k=np.unique(labels, return_counts=True)\n",
    "\n",
    "                cb=k[1][1:]\n",
    "                if len(cb)==0:\n",
    "                    fullmins=0\n",
    "                    print(f'{Fore.RED}No Co-Vis time for ra={target_coord.ra.deg} and dec={target_coord.dec.deg} Co-vis time: {fullmins} mins{Style.RESET_ALL}')\n",
    "                    bb[jj,ii]=fullmins\n",
    "                else: \n",
    "\n",
    "                    cvs=[]\n",
    "                    for i in (cb):\n",
    "                        cvs.append((time_interval*i))\n",
    "                        bgr_covis=np.max(cvs)\n",
    "                        total_covis=sum(cvs)\n",
    "\n",
    "                    \n",
    "                    if co_vis_type=='sum':\n",
    "                        print(f'{Fore.GREEN}Mulitiple ranges of Co-Vis time for ra={target_coord.ra.deg} and dec={target_coord.dec.deg} in minutes: {total_covis} mins{Style.RESET_ALL}')\n",
    "                        bb[jj,ii] = total_covis \n",
    "                    elif co_vis_type=='max':\n",
    "                        print(f'{Fore.GREEN}Mulitiple ranges of Co-Vis time for ra={target_coord.ra.deg} and dec={target_coord.dec.deg} in minutes: {bgr_covis} mins{Style.RESET_ALL}')\n",
    "                        bb[jj,ii] = bgr_covis \n",
    "                        \n",
    "                        \n",
    "        elif night_only_obs1=='n'and night_only_obs2=='n':\n",
    "            print(f'Night only observation not required')\n",
    "            dk={'datetimes':times,'obs1_airmass':masked_airmass_obs1,'obs2_airmass':masked_airmass_obs2}\n",
    "            df1=pd.DataFrame(data=dk)\n",
    "\n",
    "            df=df1.round(3 )# Rounding up values \n",
    "             # Dropping NaN values but maintaining indexes in case there are NANs\n",
    "\n",
    "            df=df.dropna()#Checking the dataframe\n",
    "            df.reset_index(drop=True, inplace=True)\n",
    "            #print(df)\n",
    "\n",
    "            covis_list=(df[df['obs1_airmass'].between(low_airmasslim,high_airmasslim) & df['obs2_airmass'].between(low_airmasslim,high_airmasslim)])\n",
    "\n",
    "\n",
    "            if len(covis_list)==0 or len(df)==0:\n",
    "                mins=0\n",
    "                print(f'{Fore.RED}No Co-Vis:Total time co-observable for {target_coord.ra.deg} and {target_coord.dec.deg} in minutes: {mins} mins{Style.RESET_ALL}')\n",
    "                bb[jj,ii] = mins \n",
    "            else:   \n",
    "                com_vals=np.array([df['obs1_airmass'].between(low_airmasslim,high_airmasslim) & df['obs2_airmass'].between(low_airmasslim,high_airmasslim)])\n",
    "                com_vals\n",
    "                fb=com_vals[0][:]\n",
    "                p=int((len(fb))*0.2)\n",
    "                nit=np.zeros(p,dtype=bool)\n",
    "\n",
    "                yy=np.append(nit,fb) #Adding false to the beginning of the list \n",
    "                tt=np.append(yy,nit)\n",
    "                gg=1*tt #converting to binary\n",
    "                ff=np.zeros(len(gg)) #Generating zeros\n",
    "                vls=np.array([ff,tt,ff])\n",
    "\n",
    "                vls=vls.astype(np.uint8)\n",
    "                (thresh, gray) = cv2.threshold(vls, 0, 1, cv2.THRESH_BINARY | cv2.THRESH_OTSU)\n",
    "\n",
    "                ret, labels = cv2.connectedComponents(gray)\n",
    "                plt.figure(figsize=(5,5))\n",
    "                plt.imshow(vls)\n",
    "                k=np.unique(labels, return_counts=True)\n",
    "\n",
    "                cb=k[1][1:]\n",
    "                if len(cb)==0:\n",
    "                    fullmins=0\n",
    "                    print(f'{Fore.RED}No Co-Vis time for ra={target_coord.ra.deg} and dec={target_coord.dec.deg} Co-vis time: {fullmins} mins{Style.RESET_ALL}')\n",
    "                    bb[jj,ii]=fullmins\n",
    "                else: \n",
    "\n",
    "                    cvs=[]\n",
    "                    for i in (cb):\n",
    "                        cvs.append((time_interval*i))\n",
    "                        bgr_covis=np.max(cvs)\n",
    "                        total_covis=sum(cvs)\n",
    "\n",
    "                     \n",
    "                    if co_vis_type=='sum':\n",
    "                        print(f'{Fore.GREEN}Mulitiple ranges of Co-Vis time for ra={target_coord.ra.deg} and dec={target_coord.dec.deg} in minutes: {total_covis} mins{Style.RESET_ALL}')\n",
    "                        bb[jj,ii] = total_covis \n",
    "                    elif co_vis_type=='max':\n",
    "                        bb[jj,ii] = bgr_covis \n",
    "        \n",
    "        \n",
    "        \n",
    "        \n",
    "        \n",
    "        \n",
    "        \n",
    "        \n",
    "      \n",
    "\n",
    "\n",
    "\n",
    "print((bb))\n",
    "\n",
    "# Plot\n",
    "\n",
    "fig, axs = plt.subplots(figsize=(20,10))\n",
    "c=plt.pcolor(x,y,bb,shading='auto', edgecolors='k', linewidths=0.4)\n",
    "fig.colorbar(c, ax=axs,label='Co-visibilty time [Mins]')\n",
    "plt.title(f\"Co-observability times of {obs1.name.upper()} and {obs2.name} from  {start_date}  to \"\\\n",
    "          \n",
    "          f\" {end_date}  for total of {total_mins} mins\",fontsize=15)\n",
    "          \n",
    "plt.ylim(-90,90)\n",
    "plt.xlim(0,360)\n",
    "plt.xlabel('RA')\n",
    "plt.ylabel('DEC')\n",
    "plt.savefig(save_location+f\"Co-vis times of {obs1.name.upper()} and {obs2.name} from  {start_date}  to \"\\\n",
    "          \n",
    "          f\" {end_date}  for total of {total_mins} mins.png\")"
   ]
  },
  {
   "cell_type": "code",
   "execution_count": null,
   "metadata": {},
   "outputs": [],
   "source": []
  }
 ],
 "metadata": {
  "kernelspec": {
   "display_name": "Python 3",
   "language": "python",
   "name": "python3"
  },
  "language_info": {
   "codemirror_mode": {
    "name": "ipython",
    "version": 3
   },
   "file_extension": ".py",
   "mimetype": "text/x-python",
   "name": "python",
   "nbconvert_exporter": "python",
   "pygments_lexer": "ipython3",
   "version": "3.7.5"
  }
 },
 "nbformat": 4,
 "nbformat_minor": 2
}
