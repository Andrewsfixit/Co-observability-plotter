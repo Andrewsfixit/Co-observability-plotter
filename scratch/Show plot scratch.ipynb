{
 "cells": [
  {
   "cell_type": "code",
   "execution_count": 11,
   "metadata": {},
   "outputs": [],
   "source": [
    "from astropy.time import Time\n",
    "from astroplan import download_IERS_A \n",
    "import pandas as pd\n",
    "\n",
    "from astropy.coordinates import EarthLocation\n",
    "from astroplan import Observer,FixedTarget\n",
    "import astroplan\n",
    "from astroplan.plots import plot_airmass,plot_altitude\n",
    "import astropy.units as u\n",
    "from astropy.coordinates import SkyCoord\n",
    "import matplotlib\n",
    "import numpy as np\n",
    "import matplotlib.pyplot as plt\n",
    "import matplotlib.ticker as mticker\n",
    "from datetime import datetime\n",
    "from pytz import common_timezones\n",
    "import pyorbital\n",
    "\n",
    "pd.set_option(\"display.max_rows\", None, \"display.max_columns\", None)\n",
    "\n",
    "%matplotlib inline"
   ]
  },
  {
   "cell_type": "code",
   "execution_count": 2,
   "metadata": {},
   "outputs": [
    {
     "name": "stdout",
     "output_type": "stream",
     "text": [
      "<FixedTarget \"Hydra_A\" at SkyCoord (ICRS): (ra, dec) in deg (139.52354583, -12.09555278)> 139d31m24.765s -12d05m43.99s\n"
     ]
    }
   ],
   "source": [
    "hydraA=FixedTarget.from_name(\"Hydra_A\")   \n",
    "#selecting target  - Hydra_A\n",
    "Ra,Dec=hydraA.ra,hydraA.dec                 #Extracting RA and Dec  since not manually imputed \n",
    "print(hydraA,Ra, Dec)   "
   ]
  },
  {
   "cell_type": "code",
   "execution_count": 3,
   "metadata": {},
   "outputs": [
    {
     "name": "stdout",
     "output_type": "stream",
     "text": [
      "<Observer: name='ctio',\n",
      "    location (lon, lat, el)=(-70.81500000000001 deg, -30.165277777777778 deg, 2214.9999999993697 m),\n",
      "    timezone=<DstTzInfo 'America/Santiago' LMT-1 day, 19:17:00 STD>>\n",
      "<Observer: name='KMTNET',\n",
      "    location (lon, lat, el)=(149.06119444444445 deg, -31.273361111111104 deg, 1149.0000000015516 m),\n",
      "    timezone=<DstTzInfo 'Australia/Sydney' LMT+10:05:00 STD>>\n",
      "<Observer: name='MeerKaT',\n",
      "    location (lon, lat, el)=(21.44407 deg, -30.71369000000001 deg, 1049.999999999732 m),\n",
      "    timezone=<DstTzInfo 'Africa/Johannesburg' LMT+1:52:00 STD>>\n",
      "<Observer: name='ASKAP',\n",
      "    location (lon, lat, el)=(116.63699999999999 deg, -26.696000000000005 deg, 377.8299999988001 m),\n",
      "    timezone=<DstTzInfo 'Australia/Perth' LMT+7:43:00 STD>>\n"
     ]
    }
   ],
   "source": [
    "ctio = Observer.at_site(\"ctio\", timezone = 'America/Santiago')\n",
    "print(ctio)\n",
    "\n",
    "kmtnet = Observer.at_site(\"Siding Spring Observatory\", name='KMTNET',timezone = 'Australia/Sydney')\n",
    "print(kmtnet)\n",
    "\n",
    "\n",
    "location_meerkat = EarthLocation.from_geodetic(21.44407*u.deg,-30.71369*u.deg,1050*u.m)\n",
    "meerkat= Observer(location=location_meerkat, name=\"MeerKaT\", timezone='Africa/Johannesburg')\n",
    "print(meerkat)\n",
    "\n",
    "\n",
    "location_askap = EarthLocation.from_geodetic(116.637*u.deg,-26.696*u.deg,377.83*u.m)\n",
    "askap = Observer(location=location_askap, name=\"ASKAP\", timezone='Australia/Perth')\n",
    "print(askap)"
   ]
  },
  {
   "cell_type": "code",
   "execution_count": 4,
   "metadata": {},
   "outputs": [],
   "source": [
    "#Time Range\n",
    "\n",
    "start_obs = Time('2020-11-23 00:00:00')\n",
    "end_obs= Time('2020-11-24 23:00:00')\n",
    "delta_t = end_obs - start_obs\n",
    "observe_time = start_obs + delta_t*np.linspace(0, 1,75)"
   ]
  },
  {
   "cell_type": "code",
   "execution_count": 5,
   "metadata": {},
   "outputs": [],
   "source": [
    "#generate date times\n",
    "from astropy.coordinates import get_moon\n",
    "\n",
    "start_obs = Time('2020-11-23 00:00:00')\n",
    "end_obs= Time('2020-11-24 23:00:00')\n",
    "delta_t = end_obs - start_obs\n",
    "observe_timemoon = start_obs + delta_t*np.linspace(0, 1,75)\n",
    "#bserve_timemoon\n",
    "\n",
    "#Define the source \n",
    "HydraAs = SkyCoord('139d31m24.765s', '-12d05m43.99s', frame='icrs')\n",
    "\n",
    "\n",
    "#Generate moon positions \n",
    "moon_radec=[]\n",
    "for i in observe_timemoon:\n",
    "    get_moon(i)\n",
    "    moon_radec.append(get_moon(i))\n",
    "\n",
    "    \n",
    "#convert them to radec format   \n",
    "\n",
    "radecs=[]\n",
    "for i in moon_radec:\n",
    "    c = SkyCoord(ra=i.ra, dec=i.dec)\n",
    "    radecs.append(c.to_string('hmsdms'))\n",
    "    \n",
    "#Splitting them\n",
    "radec2=[]\n",
    "for e in radecs:\n",
    "    radec2.append(e.split(' '))\n",
    "    \n",
    "    \n",
    "#Conveting to degrees\n",
    "moon_locs=[]\n",
    "l=np.arange(0,len(radec2))\n",
    "for i in (l):\n",
    "    moon_locs.append(SkyCoord(radec2[i][0],radec2[i][1], frame='icrs'))\n",
    "\n",
    "#Get seperations in degrees\n",
    "\n",
    "sep=[]\n",
    "for i in moon_locs:\n",
    "    sep.append(HydraAs.separation(i).deg)\n",
    "\n",
    "    \n",
    "    \n",
    "#making them numpy arrays\n",
    "sep=np.array(sep)   \n",
    "\n",
    "observe_timemoon=np.array(observe_timemoon.datetime)\n",
    "#print(observe_timemoon)"
   ]
  },
  {
   "cell_type": "code",
   "execution_count": 41,
   "metadata": {},
   "outputs": [
    {
     "name": "stdout",
     "output_type": "stream",
     "text": [
      "<class 'numpy.ndarray'>\n"
     ]
    }
   ],
   "source": [
    "observe_timemoon2=observe_timemoon.tolist()\n",
    "print(type(observe_timemoon3))\n",
    "#observe_timemoon3=np.array(observe_timemoon2)"
   ]
  },
  {
   "cell_type": "code",
   "execution_count": 57,
   "metadata": {},
   "outputs": [
    {
     "data": {
      "text/plain": [
       "Text(0, 0.5, 'Seperation')"
      ]
     },
     "execution_count": 57,
     "metadata": {},
     "output_type": "execute_result"
    },
    {
     "data": {
      "image/png": "[encoded data removed]",
      "text/plain": [
       "<Figure size 1080x360 with 2 Axes>"
      ]
     },
     "metadata": {},
     "output_type": "display_data"
    }
   ],
   "source": [
    "y= np.arange(0, 75)\n",
    "fig, ax = plt.subplots(figsize=(15,5))\n",
    "\n",
    "ax1 = ax.twinx()\n",
    "\n",
    "ax.plot(observe_timemoon, sep, 'g-')\n",
    "\n",
    "\n",
    "#ax1.plot(observe_timemoon, y, 'b-')\n",
    "\n",
    "ax.set_xlabel('times')\n",
    "#ax.set_ylabel('Airmasses', color='b')\n",
    "ax1.set_ylabel('Seperation', color='g')\n"
   ]
  },
  {
   "cell_type": "code",
   "execution_count": 8,
   "metadata": {},
   "outputs": [],
   "source": [
    "time=observe_timemoon"
   ]
  },
  {
   "cell_type": "code",
   "execution_count": 62,
   "metadata": {},
   "outputs": [
    {
     "name": "stderr",
     "output_type": "stream",
     "text": [
      "/usr/lib/python3/dist-packages/ipykernel_launcher.py:114: UserWarning: FixedFormatter should only be used together with FixedLocator\n"
     ]
    },
    {
     "data": {
      "text/plain": [
       "[<matplotlib.lines.Line2D at 0x7fa6d54c4490>]"
      ]
     },
     "execution_count": 62,
     "metadata": {},
     "output_type": "execute_result"
    },
    {
     "data": {
      "image/png": "[encoded data removed]",
      "text/plain": [
       "<Figure size 1080x360 with 2 Axes>"
      ]
     },
     "metadata": {},
     "output_type": "display_data"
    }
   ],
   "source": [
    "from __future__ import (absolute_import, division, print_function,\n",
    "                        unicode_literals)\n",
    "\n",
    "from collections import Sequence\n",
    "import operator\n",
    "\n",
    "import matplotlib.pyplot as plt\n",
    "from matplotlib import dates\n",
    "\n",
    "\n",
    "\n",
    "#time = Time(time)\n",
    "#if time.isscalar:\n",
    "#    time = time + np.linspace(-12, 12, 100)*u.hour\n",
    "#elif len(time) == 1:\n",
    "   # warnings.warn('You used a Time array of length 1.  You probably meant '\n",
    "   #                   'to use a scalar. (Or maybe a list with length > 1?).',\n",
    "   #                   PlotWarning)\n",
    "    \n",
    "    \n",
    "    \n",
    "if not isinstance(hydraA, Sequence):\n",
    "        hydraA = [hydraA]\n",
    "\n",
    "        \n",
    "#Setting observatory\n",
    "observer=ctio\n",
    "\n",
    "#Getting airmasses and masking them  \n",
    "for target in hydraA:\n",
    "        # Calculate airmass\n",
    "        airmass = observer.altaz(time, hydraA).secz\n",
    "        # Mask out nonsense airmasses\n",
    "        masked_airmass = np.ma.array(airmass, mask=airmass < 1)\n",
    "        \n",
    "#len(masked_airmass)\n",
    "\n",
    "\n",
    "# Some checks & info for labels.\n",
    "        try:\n",
    "            target_name = hydraA.name\n",
    "        except AttributeError:\n",
    "            target_name = ''\n",
    "\n",
    "            \n",
    "#Plotting  \n",
    "fig, ax = plt.subplots(figsize=(15,5))\n",
    "\n",
    "ax1 = ax.twinx()\n",
    "\n",
    "\n",
    "\n",
    "#fig, ax= plt.subplots(figsize=(15,6))\n",
    "            \n",
    "ax = plt.gca()\n",
    "\n",
    "#Plotting styles\n",
    "\n",
    "style_kwargs = {'linestyle': '-', 'color': 'r', 'alpha': 0.9, 'linewidth': 3 }\n",
    "style_kwargs = dict(style_kwargs)\n",
    "\n",
    "\n",
    "\n",
    "\n",
    "# Plot data\n",
    "\n",
    "ax.plot_date(observe_timemoon, masked_airmass, label=target_name,**style_kwargs )\n",
    "\n",
    "\n",
    "# Format the time axis\n",
    "#ax.set_xlim([observe_timemoon[0].plot_date, observe_timemoon[-1].plot_date])\n",
    "#date_formatter = dates.DateFormatter('%H:%M')\n",
    "#ax.xaxis.set_major_formatter(date_formatter)\n",
    "#plt.setp(ax.get_xticklabels(), rotation=30, ha='right')\n",
    "\n",
    "\n",
    "# Invert y-axis and set limits.\n",
    "y_lim = ax.get_ylim()\n",
    "if y_lim[1] > y_lim[0]:\n",
    "    ax.invert_yaxis()\n",
    "    ax.set_ylim([3, 1])\n",
    "    \n",
    "# Draw lo/hi limit regions, if present\n",
    "ymax, ymin = ax.get_ylim()       # should be (hi_limit, lo_limit)\n",
    "\n",
    "\n",
    "#Setting min and max\n",
    "min_region=1.3\n",
    "max_region=2\n",
    "\n",
    "\n",
    "\n",
    "\n",
    "#ax.plot_date(observe_timemoon, sep, label='moonseperation' )\n",
    "\n",
    "ax.axhspan(ymax, max_region, facecolor='#F9EB4E', alpha=0.10)\n",
    "#if min_region is not None:\n",
    "  #  ax.axhspan(min_region, ymin, facecolor='#F9EB4E', alpha=0.10)\n",
    "    \n",
    "#ax.set_xlabel(\"Time from {0} [UTC]\".format(min(observe_timemoon).datetime.date()))\n",
    "\n",
    "ax.set_ylabel('Airmasses', color='b')\n",
    "\n",
    "#if _has_twin(ax):\n",
    "#altitude_ticks = np.array([90, 60, 50, 40, 30, 20])\n",
    "seperation_ticks =np.round(sep,2)\n",
    "#airmass_ticks = 1./np.cos(np.radians(90 - altitude_ticks))\n",
    "\n",
    "\n",
    "     \n",
    "\n",
    "#ax2.set_yticks(airmass_ticks)\n",
    "ax1.plot(observe_timemoon, sep, label='moonseperation' )\n",
    "ax1.set_yticklabels(seperation_ticks)\n",
    "ax1.set_ylim(ax.get_ylim())\n",
    "ax1.set_ylabel('Moon-target Seperation[degrees]',color='b')\n",
    "\n",
    "\n",
    "ax.plot_date(observe_timemoon, masked_airmass, label=target_name,**style_kwargs )\n"
   ]
  },
  {
   "cell_type": "code",
   "execution_count": null,
   "metadata": {},
   "outputs": [],
   "source": []
  },
  {
   "cell_type": "code",
   "execution_count": null,
   "metadata": {},
   "outputs": [],
   "source": []
  },
  {
   "cell_type": "code",
   "execution_count": null,
   "metadata": {},
   "outputs": [],
   "source": []
  }
 ],
 "metadata": {
  "kernelspec": {
   "display_name": "Python 3",
   "language": "python",
   "name": "python3"
  },
  "language_info": {
   "codemirror_mode": {
    "name": "ipython",
    "version": 3
   },
   "file_extension": ".py",
   "mimetype": "text/x-python",
   "name": "python",
   "nbconvert_exporter": "python",
   "pygments_lexer": "ipython3",
   "version": "3.7.5"
  }
 },
 "nbformat": 4,
 "nbformat_minor": 2
}
