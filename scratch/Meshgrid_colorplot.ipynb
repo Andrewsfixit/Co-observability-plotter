{
 "cells": [
  {
   "cell_type": "code",
   "execution_count": 18,
   "metadata": {},
   "outputs": [],
   "source": [
    "import numpy as np\n",
    "import matplotlib.pyplot as plt"
   ]
  },
  {
   "cell_type": "code",
   "execution_count": 32,
   "metadata": {},
   "outputs": [
    {
     "name": "stdout",
     "output_type": "stream",
     "text": [
      "[10. 11. 12. 13. 14.]\n",
      "[10. 11. 12. 13. 14.]\n"
     ]
    }
   ],
   "source": [
    "# Define all the RA and DECs I want hours for\n",
    "ra = np.linspace(10,14,5)\n",
    "print(ra)\n",
    "dec = np.linspace(10,14,5)\n",
    "print(dec)"
   ]
  },
  {
   "cell_type": "code",
   "execution_count": 33,
   "metadata": {},
   "outputs": [],
   "source": [
    "# Make it a matrix automatically\n",
    "x,y=np.meshgrid(ra,dec)"
   ]
  },
  {
   "cell_type": "code",
   "execution_count": 34,
   "metadata": {},
   "outputs": [
    {
     "name": "stdout",
     "output_type": "stream",
     "text": [
      "[[10. 11. 12. 13. 14.]\n",
      " [10. 11. 12. 13. 14.]\n",
      " [10. 11. 12. 13. 14.]\n",
      " [10. 11. 12. 13. 14.]\n",
      " [10. 11. 12. 13. 14.]]\n"
     ]
    }
   ],
   "source": [
    "print(x)"
   ]
  },
  {
   "cell_type": "code",
   "execution_count": 35,
   "metadata": {},
   "outputs": [
    {
     "name": "stdout",
     "output_type": "stream",
     "text": [
      "[[10. 10. 10. 10. 10.]\n",
      " [11. 11. 11. 11. 11.]\n",
      " [12. 12. 12. 12. 12.]\n",
      " [13. 13. 13. 13. 13.]\n",
      " [14. 14. 14. 14. 14.]]\n"
     ]
    }
   ],
   "source": [
    "print(y)"
   ]
  },
  {
   "cell_type": "code",
   "execution_count": 40,
   "metadata": {},
   "outputs": [
    {
     "name": "stdout",
     "output_type": "stream",
     "text": [
      "[[0. 0. 0. 0. 0.]\n",
      " [0. 0. 0. 0. 0.]\n",
      " [0. 0. 0. 0. 0.]\n",
      " [0. 0. 0. 0. 0.]\n",
      " [0. 0. 0. 0. 0.]]\n",
      "[[20. 21. 22. 23. 24.]\n",
      " [21. 22. 23. 24. 25.]\n",
      " [22. 23. 24. 25. 26.]\n",
      " [23. 24. 25. 26. 27.]\n",
      " [24. 25. 26. 27. 28.]]\n"
     ]
    }
   ],
   "source": [
    "# Loop through each RA and DEC to calculate z (number of hours)\n",
    "z = np.zeros(np.shape(x))\n",
    "print(z)\n",
    "for ii,r in enumerate(ra):\n",
    "    for jj,d in enumerate(dec):\n",
    "        number_hours = r+d\n",
    "        z[ii,jj] = number_hours\n",
    "print(z)"
   ]
  },
  {
   "cell_type": "code",
   "execution_count": 41,
   "metadata": {},
   "outputs": [
    {
     "data": {
      "text/plain": [
       "Text(0, 0.5, 'DEC')"
      ]
     },
     "execution_count": 41,
     "metadata": {},
     "output_type": "execute_result"
    },
    {
     "data": {
      "image/png": "[encoded data removed]",
      "text/plain": [
       "<Figure size 432x288 with 2 Axes>"
      ]
     },
     "metadata": {
      "needs_background": "light"
     },
     "output_type": "display_data"
    }
   ],
   "source": [
    "# Plot\n",
    "fig, axs = plt.subplots()\n",
    "c=plt.pcolor(x,y,z)\n",
    "fig.colorbar(c, ax=axs)\n",
    "plt.xlabel('RA')\n",
    "plt.ylabel('DEC')"
   ]
  },
  {
   "cell_type": "code",
   "execution_count": null,
   "metadata": {},
   "outputs": [],
   "source": []
  }
 ],
 "metadata": {
  "kernelspec": {
   "display_name": "Python 3",
   "language": "python",
   "name": "python3"
  },
  "language_info": {
   "codemirror_mode": {
    "name": "ipython",
    "version": 3
   },
   "file_extension": ".py",
   "mimetype": "text/x-python",
   "name": "python",
   "nbconvert_exporter": "python",
   "pygments_lexer": "ipython3",
   "version": "3.7.4"
  }
 },
 "nbformat": 4,
 "nbformat_minor": 2
}
