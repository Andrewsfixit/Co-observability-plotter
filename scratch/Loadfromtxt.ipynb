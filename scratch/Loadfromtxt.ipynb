{
 "cells": [
  {
   "cell_type": "code",
   "execution_count": 23,
   "metadata": {},
   "outputs": [],
   "source": [
    "import os \n",
    "import numpy as np\n",
    "import pandas as pd"
   ]
  },
  {
   "cell_type": "code",
   "execution_count": 22,
   "metadata": {},
   "outputs": [],
   "source": [
    "cwd = os.getcwd() #get your work directory\n",
    "os.chdir('/home/andrew/Desktop/PASAE')\n"
   ]
  },
  {
   "cell_type": "code",
   "execution_count": 15,
   "metadata": {},
   "outputs": [
    {
     "name": "stdout",
     "output_type": "stream",
     "text": [
      " frbcat_20201110.csv\r\n",
      " Observation_Scheduler.py\r\n",
      " Observatories\r\n",
      " \u001b[0m\u001b[01;34mPASEA-Dunlap-IAU_Internship\u001b[0m/\r\n",
      "'Supervisor-Student Expectations - Project.amkd.pdf'\r\n",
      "'Supervisor-Student Expectations - Project.pdf'\r\n",
      " telescopes.txt\r\n"
     ]
    }
   ],
   "source": [
    "ls"
   ]
  },
  {
   "cell_type": "code",
   "execution_count": 49,
   "metadata": {},
   "outputs": [
    {
     "name": "stdout",
     "output_type": "stream",
     "text": [
      "['Meerkat' '21.44407' '-30.71369' '1050' 'Africa/Johannesburg']\n"
     ]
    }
   ],
   "source": [
    "telescopes= np.genfromtxt(\"telescopes.txt\", dtype='str', delimiter=',')\n",
    "#print(telescopes)\n",
    "\n",
    "#print(telescopes.shape)\n",
    "telescope1= telescopes[1,:]\n",
    "\n",
    "\n",
    "print(telescope1)\n"
   ]
  },
  {
   "cell_type": "code",
   "execution_count": 43,
   "metadata": {},
   "outputs": [
    {
     "name": "stdout",
     "output_type": "stream",
     "text": [
      "10\n",
      "12\n",
      "15\n",
      "18\n",
      "20\n"
     ]
    }
   ],
   "source": [
    "#Setup_telescope\n",
    "location = EarthLocation.from_geodetic(longitude*u.deg,latitude*u.deg,elev*u.m)\n",
    "telescope= Observer(location=location, name=Observatory_name, timezone=timezone)\n",
    "print(telescope)\n"
   ]
  },
  {
   "cell_type": "code",
   "execution_count": null,
   "metadata": {},
   "outputs": [],
   "source": [
    "targets=[hydraA2,hydraA3,hydraA4,hydraA5]\n",
    "\n",
    "from astroplan import (AltitudeConstraint,MoonSeparationConstraint,\n",
    "                       AtNightConstraint,observability_table, AirmassConstraint)\n",
    "\n",
    "constraints=[AltitudeConstraint(min=15*u.deg,max=85*u.deg),\n",
    "             MoonSeparationConstraint(min=20*u.deg),\n",
    "             AtNightConstraint.twilight_astronomical()]\n",
    "\n",
    "table=observability_table(constraints,ctio,targets,observe_time2)"
   ]
  },
  {
   "cell_type": "code",
   "execution_count": null,
   "metadata": {},
   "outputs": [],
   "source": [
    "#names= telescopes[1:,0]\n",
    "#lons= telescopes[1:,1]\n",
    "#lats= telescopes[1:,2]\n",
    "#elevs= telescopes[1:,3]\n",
    "#zones= telescopes[1:,4]"
   ]
  }
 ],
 "metadata": {
  "kernelspec": {
   "display_name": "Python 3",
   "language": "python",
   "name": "python3"
  },
  "language_info": {
   "codemirror_mode": {
    "name": "ipython",
    "version": 3
   },
   "file_extension": ".py",
   "mimetype": "text/x-python",
   "name": "python",
   "nbconvert_exporter": "python",
   "pygments_lexer": "ipython3",
   "version": "3.7.5"
  }
 },
 "nbformat": 4,
 "nbformat_minor": 2
}
